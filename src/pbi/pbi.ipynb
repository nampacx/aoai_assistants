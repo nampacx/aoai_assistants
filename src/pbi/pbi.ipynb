{
 "cells": [
  {
   "cell_type": "code",
   "execution_count": null,
   "metadata": {
    "metadata": {}
   },
   "outputs": [],
   "source": [
    "# Install the packages\\\n",
    "%pip install requests openai python-dotenv praw"
   ]
  },
  {
   "cell_type": "code",
   "execution_count": null,
   "metadata": {},
   "outputs": [],
   "source": [
    "from dotenv import load_dotenv\n",
    "import os\n",
    "import sys\n",
    "\n",
    "sys.path.insert(0, '../code')\n",
    "\n",
    "# Load the .env file\n",
    "load_dotenv('../.env')\n",
    "\n",
    "# Now you can access the variables using os.getenv\n",
    "gpt4_azure_openai_endpoint = os.getenv(\"GPT4_AZURE_OPENAI_ENDPOINT\")\n",
    "gpt4_azure_openai_key = os.getenv(\"GPT4_AZURE_OPENAI_KEY\")\n",
    "gpt4_azure_openai_api_version = os.getenv(\"GPT4_AZURE_OPENAI_API_VERSION\")\n",
    "gpt4_deployment_name = os.getenv(\"GPT4_DEPLOYMENT_NAME\")\n"
   ]
  },
  {
   "cell_type": "markdown",
   "metadata": {},
   "source": [
    "# Functions"
   ]
  },
  {
   "cell_type": "code",
   "execution_count": null,
   "metadata": {},
   "outputs": [],
   "source": [
    "# init tool array\n",
    "\n",
    "tools = []\n",
    "functions_map = {}"
   ]
  },
  {
   "cell_type": "code",
   "execution_count": null,
   "metadata": {},
   "outputs": [],
   "source": [
    "from reddit_functions import RedditClient\n",
    "\n",
    "reddit = RedditClient()\n",
    "\n",
    "fucntions = reddit.get_function_descriptions()\n",
    "\n",
    "for f in fucntions:\n",
    "    tools.append(f)\n",
    "\n",
    "functions_map['subreddit_search'] = reddit.subreddit_search\n",
    "functions_map['get_reddit_posts'] = reddit.get_reddit_posts"
   ]
  },
  {
   "cell_type": "code",
   "execution_count": null,
   "metadata": {},
   "outputs": [],
   "source": [
    "from file_fucntions import FileFunctions\n",
    "\n",
    "file_functions = FileFunctions()\n",
    "functions = file_functions.get_function_descriptions()\n",
    "for f in functions:\n",
    "    tools.append(f)\n",
    "\n",
    "functions_map[\"write_to_file\"] = file_functions.write_to_file\n",
    "functions_map[\"read_file\"] = file_functions.read_file"
   ]
  },
  {
   "cell_type": "code",
   "execution_count": null,
   "metadata": {},
   "outputs": [],
   "source": [
    "tools.append({\"type\": \"code_interpreter\"})"
   ]
  },
  {
   "cell_type": "markdown",
   "metadata": {},
   "source": [
    "# Define Assistant"
   ]
  },
  {
   "cell_type": "code",
   "execution_count": null,
   "metadata": {},
   "outputs": [],
   "source": [
    "assistant_def = {\n",
    "    'name' : \"pbi_assistant\",\n",
    "     'instructions' : \"\"\"You are an helpflull assistant who hepls product owners to write user stories.\n",
    "     You will support the user on creating user stories.\n",
    "     Please make sure that the pbi contains the following information:\n",
    "        - Title\n",
    "        - Description\n",
    "        - Acceptance Criteria\n",
    "    If the user does not provide the information, please ask for it.\n",
    "\"\"\",\n",
    "'model': gpt4_deployment_name,\n",
    "'azure_openai_key': gpt4_azure_openai_key,\n",
    "'azure_openai_endpoint': gpt4_azure_openai_endpoint,\n",
    "'azure_openai_api_version': gpt4_azure_openai_api_version\n",
    "}\n"
   ]
  },
  {
   "cell_type": "markdown",
   "metadata": {},
   "source": [
    "# Execution\n"
   ]
  },
  {
   "cell_type": "code",
   "execution_count": null,
   "metadata": {
    "metadata": {}
   },
   "outputs": [],
   "source": [
    "\n",
    "from MiKoAssistant import MikoAssistant\n",
    "\n",
    "verbose_output = True\n",
    "\n",
    "mikoAssistant = MikoAssistant(assistant_def, tools, functions_map)\n",
    "\n",
    "mikoAssistant.create_new_thread()\n",
    "\n",
    "\n",
    "messages = mikoAssistant.send_message(\"I need to have a user story were I as user want to multiply two numbers.\", verbose_output)\n",
    "\n",
    "conversation = mikoAssistant.extract_message_content(messages, \"output\")\n",
    "for c in conversation:\n",
    "    print(c)"
   ]
  },
  {
   "cell_type": "code",
   "execution_count": null,
   "metadata": {},
   "outputs": [],
   "source": [
    "messages = mikoAssistant.send_message(\"Please add a condition that the input vaules need to be positive\", verbose_output)\n",
    "\n",
    "conversation = mikoAssistant.extract_message_content(messages, \"output\")\n",
    "for c in conversation:\n",
    "    print(c)"
   ]
  },
  {
   "cell_type": "code",
   "execution_count": null,
   "metadata": {},
   "outputs": [],
   "source": [
    "messages = mikoAssistant.send_message(\"please save the user story in a file. File Name shall be the title of the user story\", verbose_output)\n",
    "\n",
    "conversation = mikoAssistant.extract_message_content(messages, \"output\")\n",
    "for c in conversation:\n",
    "    print(c)"
   ]
  }
 ],
 "metadata": {
  "kernelspec": {
   "display_name": ".venv",
   "language": "python",
   "name": "python3"
  },
  "language_info": {
   "codemirror_mode": {
    "name": "ipython",
    "version": 3
   },
   "file_extension": ".py",
   "mimetype": "text/x-python",
   "name": "python",
   "nbconvert_exporter": "python",
   "pygments_lexer": "ipython3",
   "version": "3.12.3"
  }
 },
 "nbformat": 4,
 "nbformat_minor": 2
}
