{
 "cells": [
  {
   "cell_type": "code",
   "execution_count": null,
   "metadata": {
    "metadata": {}
   },
   "outputs": [],
   "source": [
    "# Install the packages\\\n",
    "%pip install requests openai python-dotenv praw"
   ]
  },
  {
   "cell_type": "code",
   "execution_count": null,
   "metadata": {},
   "outputs": [],
   "source": [
    "from dotenv import load_dotenv\n",
    "import os\n",
    "\n",
    "import sys\n",
    "sys.path.insert(0, '../code')\n",
    "\n",
    "# Load the .env file\n",
    "load_dotenv('../.env')\n",
    "\n",
    "# Now you can access the variables using os.getenv\n",
    "gpt4_azure_openai_endpoint = os.getenv(\"GPT4_AZURE_OPENAI_ENDPOINT\")\n",
    "gpt4_azure_openai_key = os.getenv(\"GPT4_AZURE_OPENAI_KEY\")\n",
    "gpt4_azure_openai_api_version = os.getenv(\"GPT4_AZURE_OPENAI_API_VERSION\")\n",
    "gpt4_deployment_name = os.getenv(\"GPT4_DEPLOYMENT_NAME\")\n"
   ]
  },
  {
   "cell_type": "markdown",
   "metadata": {},
   "source": [
    "# Functions"
   ]
  },
  {
   "cell_type": "code",
   "execution_count": null,
   "metadata": {},
   "outputs": [],
   "source": [
    "# init tool array\n",
    "\n",
    "tools = []\n",
    "functions_map = {}"
   ]
  },
  {
   "cell_type": "code",
   "execution_count": null,
   "metadata": {},
   "outputs": [],
   "source": [
    "tools.append({\"type\": \"code_interpreter\"})"
   ]
  },
  {
   "cell_type": "markdown",
   "metadata": {},
   "source": [
    "# Define Assistant"
   ]
  },
  {
   "cell_type": "code",
   "execution_count": null,
   "metadata": {
    "metadata": {}
   },
   "outputs": [],
   "source": [
    "assistant_def = {\n",
    "    'name' : \"reddit_assistant\",\n",
    "    'instructions':f\"You are a helpful AI assistant who makes interesting visualizations based on data.\" \n",
    "    f\"You have access to a sandboxed environment for writing and testing code.\"\n",
    "    f\"When you are asked to create a visualization you should follow these steps:\"\n",
    "    f\"1. Write the code.\"\n",
    "    f\"2. Anytime you write new code display a preview of the code to show your work.\"\n",
    "    f\"3. Run the code to confirm that it runs.\"\n",
    "    f\"4. If the code is successful display the visualization.\"\n",
    "    f\"5. If the code is unsuccessful display the error message and try to revise the code and rerun going through the steps from above again.\",\n",
    "'model': gpt4_deployment_name,\n",
    "'azure_openai_key': gpt4_azure_openai_key,\n",
    "'azure_openai_endpoint': gpt4_azure_openai_endpoint,\n",
    "'azure_openai_api_version': gpt4_azure_openai_api_version\n",
    "}\n"
   ]
  },
  {
   "cell_type": "markdown",
   "metadata": {},
   "source": [
    "# Execution\n"
   ]
  },
  {
   "cell_type": "code",
   "execution_count": null,
   "metadata": {},
   "outputs": [],
   "source": [
    "import json\n",
    "\n",
    "def convert_to_json(obj):\n",
    "    return json.dumps(obj, default=lambda o: o.__dict__, sort_keys=True, indent=4)"
   ]
  },
  {
   "cell_type": "code",
   "execution_count": null,
   "metadata": {},
   "outputs": [],
   "source": [
    "from MiKoAssistant import MikoAssistant\n",
    "\n",
    "verbose_output = True\n",
    "\n",
    "mikoAssistant = MikoAssistant(assistant_def, tools, functions_map)\n",
    "\n",
    "mikoAssistant.create_new_thread()\n",
    "messages = mikoAssistant.send_message(\"Please visualize x^4-2x^2+5\", verbose_output)\n",
    "\n",
    "conversation = mikoAssistant.extract_message_content(messages, \"output\")\n",
    "for c in conversation:\n",
    "    print(c)\n",
    "\n"
   ]
  },
  {
   "cell_type": "code",
   "execution_count": null,
   "metadata": {},
   "outputs": [],
   "source": [
    "messages = mikoAssistant.send_message(\"Please use blue a color for the curve\", verbose_output)\n",
    "\n",
    "conversation = mikoAssistant.extract_message_content(messages, \"output\")\n",
    "for c in conversation:\n",
    "    print(c)"
   ]
  }
 ],
 "metadata": {
  "kernelspec": {
   "display_name": ".venv",
   "language": "python",
   "name": "python3"
  },
  "language_info": {
   "codemirror_mode": {
    "name": "ipython",
    "version": 3
   },
   "file_extension": ".py",
   "mimetype": "text/x-python",
   "name": "python",
   "nbconvert_exporter": "python",
   "pygments_lexer": "ipython3",
   "version": "3.12.3"
  }
 },
 "nbformat": 4,
 "nbformat_minor": 2
}
